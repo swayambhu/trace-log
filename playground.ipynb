{
 "cells": [
  {
   "cell_type": "code",
   "execution_count": 2,
   "metadata": {},
   "outputs": [],
   "source": [
    "from openpyxl import Workbook, load_workbook\n",
    "from openpyxl.styles import Font"
   ]
  },
  {
   "cell_type": "code",
   "execution_count": 3,
   "metadata": {},
   "outputs": [],
   "source": [
    "data = {\n",
    "    \"traceId\": \"d3617e48-12d9-46bf-afd3-52b4d8d60d2e\",\n",
    "    \"spanId\": \"99c1c1cf-dbc1-4f6e-8791-daf3f20f1caa\",\n",
    "    \"timestamp\": \"2024-01-30T20:37:05.000Z\",\n",
    "    \"principal\": \"test123\",\n",
    "    \"session\": \"d411f4cc55db93ca8aff506a855f61d167012c4b1fd97a6f3a208da04bd1817f\",\n",
    "    \"username\": \"test123\",\n",
    "    \"ip\": \"10.203.212.153\",\n",
    "    \"request\": {\n",
    "      \"method\": \"GET\",\n",
    "      \"uri\": \"http://52fe-170-61-245-98.ngrok-free.app/blog/\",\n",
    "      \"headers\": {\n",
    "        \"Content-Length\": \"\",\n",
    "        \"Content-Type\": \"text/plain\",\n",
    "        \"Host\": \"52fe-170-61-245-98.ngrok-free.app\",\n",
    "        \"User-Agent\": \"Mozilla/5.0 (Windows NT 10.0; Win64; x64) AppleWebKit/537.36 (KHTML, like Gecko) Chrome/121.0.0.0 Safari/537.36 Edg/121.0.0.0\",\n",
    "        \"Accept\": \"text/html,application/xhtml+xml,application/xml;q=0.9,image/avif,image/webp,image/apng,*/*;q=0.8,application/signed-exchange;v=b3;q=0.7\",\n",
    "        \"Accept-Encoding\": \"gzip, deflate, br\",\n",
    "        \"Accept-Language\": \"en-US,en;q=0.9\",\n",
    "        \"Cookie\": \"csrftoken=OlzD4gQN9D3tRtPd4lFp3II6eGe4zdhf; sessionid=t3q1irw02v6cru1jz8569thh2tybodtn\",\n",
    "        \"Referer\": \"https://52fe-170-61-245-98.ngrok-free.app/contact\",\n",
    "        \"Sec-Ch-Ua\": \"\\\"Not A(Brand\\\";v=\\\"99\\\", \\\"Microsoft Edge\\\";v=\\\"121\\\", \\\"Chromium\\\";v=\\\"121\\\"\",\n",
    "        \"Sec-Ch-Ua-Mobile\": \"?0\",\n",
    "        \"Sec-Ch-Ua-Platform\": \"\\\"Windows\\\"\",\n",
    "        \"Sec-Fetch-Dest\": \"document\",\n",
    "        \"Sec-Fetch-Mode\": \"navigate\",\n",
    "        \"Sec-Fetch-Site\": \"same-origin\",\n",
    "        \"Sec-Fetch-User\": \"?1\",\n",
    "        \"Upgrade-Insecure-Requests\": \"1\",\n",
    "        \"Via\": \"1.1 10.59.201.36 (McAfee Web Gateway 9.2.17.39692)\",\n",
    "        \"X-Forwarded-For\": \"10.203.212.153,160.254.108.24\",\n",
    "        \"X-Forwarded-Host\": \"52fe-170-61-245-98.ngrok-free.app\",\n",
    "        \"X-Forwarded-Proto\": \"https\"\n",
    "      },\n",
    "      \"remoteAddress\": \"10.203.212.153\"\n",
    "    },\n",
    "    \"response\": {\n",
    "      \"status\": 200,\n",
    "      \"headers\": {\n",
    "        \"Content-Type\": \"text/html; charset=utf-8\",\n",
    "        \"X-Trace-ID\": \"d3617e48-12d9-46bf-afd3-52b4d8d60d2e\"\n",
    "      }\n",
    "    },\n",
    "    \"timeTaken\": 16\n",
    "  }"
   ]
  },
  {
   "cell_type": "code",
   "execution_count": 4,
   "metadata": {},
   "outputs": [
    {
     "name": "stdout",
     "output_type": "stream",
     "text": [
      "{'traceId': 'd3617e48-12d9-46bf-afd3-52b4d8d60d2e', 'spanId': '99c1c1cf-dbc1-4f6e-8791-daf3f20f1caa', 'timestamp': '2024-01-30T20:37:05.000Z', 'principal': 'test123', 'session': 'd411f4cc55db93ca8aff506a855f61d167012c4b1fd97a6f3a208da04bd1817f', 'username': 'test123', 'ip': '10.203.212.153', 'request.method': 'GET', 'request.uri': 'http://52fe-170-61-245-98.ngrok-free.app/blog/', 'request.headers.Content-Length': '', 'request.headers.Content-Type': 'text/plain', 'request.headers.Host': '52fe-170-61-245-98.ngrok-free.app', 'request.headers.User-Agent': 'Mozilla/5.0 (Windows NT 10.0; Win64; x64) AppleWebKit/537.36 (KHTML, like Gecko) Chrome/121.0.0.0 Safari/537.36 Edg/121.0.0.0', 'request.headers.Accept': 'text/html,application/xhtml+xml,application/xml;q=0.9,image/avif,image/webp,image/apng,*/*;q=0.8,application/signed-exchange;v=b3;q=0.7', 'request.headers.Accept-Encoding': 'gzip, deflate, br', 'request.headers.Accept-Language': 'en-US,en;q=0.9', 'request.headers.Cookie': 'csrftoken=OlzD4gQN9D3tRtPd4lFp3II6eGe4zdhf; sessionid=t3q1irw02v6cru1jz8569thh2tybodtn', 'request.headers.Referer': 'https://52fe-170-61-245-98.ngrok-free.app/contact', 'request.headers.Sec-Ch-Ua': '\"Not A(Brand\";v=\"99\", \"Microsoft Edge\";v=\"121\", \"Chromium\";v=\"121\"', 'request.headers.Sec-Ch-Ua-Mobile': '?0', 'request.headers.Sec-Ch-Ua-Platform': '\"Windows\"', 'request.headers.Sec-Fetch-Dest': 'document', 'request.headers.Sec-Fetch-Mode': 'navigate', 'request.headers.Sec-Fetch-Site': 'same-origin', 'request.headers.Sec-Fetch-User': '?1', 'request.headers.Upgrade-Insecure-Requests': '1', 'request.headers.Via': '1.1 10.59.201.36 (McAfee Web Gateway 9.2.17.39692)', 'request.headers.X-Forwarded-For': '10.203.212.153,160.254.108.24', 'request.headers.X-Forwarded-Host': '52fe-170-61-245-98.ngrok-free.app', 'request.headers.X-Forwarded-Proto': 'https', 'request.remoteAddress': '10.203.212.153', 'response.status': 200, 'response.headers.Content-Type': 'text/html; charset=utf-8', 'response.headers.X-Trace-ID': 'd3617e48-12d9-46bf-afd3-52b4d8d60d2e', 'timeTaken': 16}\n"
     ]
    }
   ],
   "source": [
    "def flatten_dict(d, parent_key='', sep='.'):\n",
    "    \"\"\"\n",
    "    Flatten a nested dictionary by combining keys with separators.\n",
    "    \"\"\"\n",
    "    items = []\n",
    "    for k, v in d.items():\n",
    "        new_key = f\"{parent_key}{sep}{k}\" if parent_key else k\n",
    "        if isinstance(v, dict):\n",
    "            items.extend(flatten_dict(v, new_key, sep=sep).items())\n",
    "        else:\n",
    "            items.append((new_key, v))\n",
    "    return dict(items)\n",
    "\n",
    "d = flatten_dict(data)\n",
    "\n",
    "print(d)"
   ]
  },
  {
   "cell_type": "code",
   "execution_count": 5,
   "metadata": {},
   "outputs": [],
   "source": [
    "wb = Workbook()\n",
    "ws = wb.active\n",
    "headers = list(d.keys())\n",
    "ws.append(headers)\n",
    "for cell in ws[1]:\n",
    "    cell.font = Font(bold=True)\n",
    "wb.save(\"demo_1.xlsx\")"
   ]
  },
  {
   "cell_type": "code",
   "execution_count": 16,
   "metadata": {},
   "outputs": [],
   "source": [
    "try:\n",
    "    wb = load_workbook(\"demo_4.xlsx\")\n",
    "    ws = wb.active\n",
    "except FileNotFoundError:\n",
    "    wb = Workbook()\n",
    "    ws = wb.active\n",
    "    headers = list(d.keys())\n",
    "    ws.append(headers)\n",
    "    for cell in ws[1]:\n",
    "        cell.font = Font(bold=True)\n",
    "    \n",
    "    \n",
    "\n",
    "ws.append(list(d.values()))\n",
    "wb.save(\"demo_4.xlsx\")\n",
    "\n",
    "\n"
   ]
  },
  {
   "cell_type": "code",
   "execution_count": 22,
   "metadata": {},
   "outputs": [],
   "source": [
    "headers = []\n",
    "for value in ws.iter_rows(min_row=1, max_row=1, values_only =  True):\n",
    "    headers = list(value)"
   ]
  },
  {
   "cell_type": "code",
   "execution_count": 23,
   "metadata": {},
   "outputs": [
    {
     "data": {
      "text/plain": [
       "['traceId',\n",
       " 'spanId',\n",
       " 'timestamp',\n",
       " 'principal',\n",
       " 'session',\n",
       " 'username',\n",
       " 'ip',\n",
       " 'request.method',\n",
       " 'request.uri',\n",
       " 'request.headers.Content-Length',\n",
       " 'request.headers.Content-Type',\n",
       " 'request.headers.Host',\n",
       " 'request.headers.User-Agent',\n",
       " 'request.headers.Accept',\n",
       " 'request.headers.Accept-Encoding',\n",
       " 'request.headers.Accept-Language',\n",
       " 'request.headers.Cookie',\n",
       " 'request.headers.Referer',\n",
       " 'request.headers.Sec-Ch-Ua',\n",
       " 'request.headers.Sec-Ch-Ua-Mobile',\n",
       " 'request.headers.Sec-Ch-Ua-Platform',\n",
       " 'request.headers.Sec-Fetch-Dest',\n",
       " 'request.headers.Sec-Fetch-Mode',\n",
       " 'request.headers.Sec-Fetch-Site',\n",
       " 'request.headers.Sec-Fetch-User',\n",
       " 'request.headers.Upgrade-Insecure-Requests',\n",
       " 'request.headers.Via',\n",
       " 'request.headers.X-Forwarded-For',\n",
       " 'request.headers.X-Forwarded-Host',\n",
       " 'request.headers.X-Forwarded-Proto',\n",
       " 'request.remoteAddress',\n",
       " 'response.status',\n",
       " 'response.headers.Content-Type',\n",
       " 'response.headers.X-Trace-ID',\n",
       " 'timeTaken']"
      ]
     },
     "execution_count": 23,
     "metadata": {},
     "output_type": "execute_result"
    }
   ],
   "source": [
    "headers"
   ]
  },
  {
   "cell_type": "code",
   "execution_count": 24,
   "metadata": {},
   "outputs": [
    {
     "data": {
      "text/plain": [
       "((<Cell 'Sheet'.A1>,\n",
       "  <Cell 'Sheet'.B1>,\n",
       "  <Cell 'Sheet'.C1>,\n",
       "  <Cell 'Sheet'.D1>,\n",
       "  <Cell 'Sheet'.E1>,\n",
       "  <Cell 'Sheet'.F1>,\n",
       "  <Cell 'Sheet'.G1>,\n",
       "  <Cell 'Sheet'.H1>,\n",
       "  <Cell 'Sheet'.I1>,\n",
       "  <Cell 'Sheet'.J1>,\n",
       "  <Cell 'Sheet'.K1>,\n",
       "  <Cell 'Sheet'.L1>,\n",
       "  <Cell 'Sheet'.M1>,\n",
       "  <Cell 'Sheet'.N1>,\n",
       "  <Cell 'Sheet'.O1>,\n",
       "  <Cell 'Sheet'.P1>,\n",
       "  <Cell 'Sheet'.Q1>,\n",
       "  <Cell 'Sheet'.R1>,\n",
       "  <Cell 'Sheet'.S1>,\n",
       "  <Cell 'Sheet'.T1>,\n",
       "  <Cell 'Sheet'.U1>,\n",
       "  <Cell 'Sheet'.V1>,\n",
       "  <Cell 'Sheet'.W1>,\n",
       "  <Cell 'Sheet'.X1>,\n",
       "  <Cell 'Sheet'.Y1>,\n",
       "  <Cell 'Sheet'.Z1>,\n",
       "  <Cell 'Sheet'.AA1>,\n",
       "  <Cell 'Sheet'.AB1>,\n",
       "  <Cell 'Sheet'.AC1>,\n",
       "  <Cell 'Sheet'.AD1>,\n",
       "  <Cell 'Sheet'.AE1>,\n",
       "  <Cell 'Sheet'.AF1>,\n",
       "  <Cell 'Sheet'.AG1>,\n",
       "  <Cell 'Sheet'.AH1>,\n",
       "  <Cell 'Sheet'.AI1>),\n",
       " (<Cell 'Sheet'.A2>,\n",
       "  <Cell 'Sheet'.B2>,\n",
       "  <Cell 'Sheet'.C2>,\n",
       "  <Cell 'Sheet'.D2>,\n",
       "  <Cell 'Sheet'.E2>,\n",
       "  <Cell 'Sheet'.F2>,\n",
       "  <Cell 'Sheet'.G2>,\n",
       "  <Cell 'Sheet'.H2>,\n",
       "  <Cell 'Sheet'.I2>,\n",
       "  <Cell 'Sheet'.J2>,\n",
       "  <Cell 'Sheet'.K2>,\n",
       "  <Cell 'Sheet'.L2>,\n",
       "  <Cell 'Sheet'.M2>,\n",
       "  <Cell 'Sheet'.N2>,\n",
       "  <Cell 'Sheet'.O2>,\n",
       "  <Cell 'Sheet'.P2>,\n",
       "  <Cell 'Sheet'.Q2>,\n",
       "  <Cell 'Sheet'.R2>,\n",
       "  <Cell 'Sheet'.S2>,\n",
       "  <Cell 'Sheet'.T2>,\n",
       "  <Cell 'Sheet'.U2>,\n",
       "  <Cell 'Sheet'.V2>,\n",
       "  <Cell 'Sheet'.W2>,\n",
       "  <Cell 'Sheet'.X2>,\n",
       "  <Cell 'Sheet'.Y2>,\n",
       "  <Cell 'Sheet'.Z2>,\n",
       "  <Cell 'Sheet'.AA2>,\n",
       "  <Cell 'Sheet'.AB2>,\n",
       "  <Cell 'Sheet'.AC2>,\n",
       "  <Cell 'Sheet'.AD2>,\n",
       "  <Cell 'Sheet'.AE2>,\n",
       "  <Cell 'Sheet'.AF2>,\n",
       "  <Cell 'Sheet'.AG2>,\n",
       "  <Cell 'Sheet'.AH2>,\n",
       "  <Cell 'Sheet'.AI2>),\n",
       " (<Cell 'Sheet'.A3>,\n",
       "  <Cell 'Sheet'.B3>,\n",
       "  <Cell 'Sheet'.C3>,\n",
       "  <Cell 'Sheet'.D3>,\n",
       "  <Cell 'Sheet'.E3>,\n",
       "  <Cell 'Sheet'.F3>,\n",
       "  <Cell 'Sheet'.G3>,\n",
       "  <Cell 'Sheet'.H3>,\n",
       "  <Cell 'Sheet'.I3>,\n",
       "  <Cell 'Sheet'.J3>,\n",
       "  <Cell 'Sheet'.K3>,\n",
       "  <Cell 'Sheet'.L3>,\n",
       "  <Cell 'Sheet'.M3>,\n",
       "  <Cell 'Sheet'.N3>,\n",
       "  <Cell 'Sheet'.O3>,\n",
       "  <Cell 'Sheet'.P3>,\n",
       "  <Cell 'Sheet'.Q3>,\n",
       "  <Cell 'Sheet'.R3>,\n",
       "  <Cell 'Sheet'.S3>,\n",
       "  <Cell 'Sheet'.T3>,\n",
       "  <Cell 'Sheet'.U3>,\n",
       "  <Cell 'Sheet'.V3>,\n",
       "  <Cell 'Sheet'.W3>,\n",
       "  <Cell 'Sheet'.X3>,\n",
       "  <Cell 'Sheet'.Y3>,\n",
       "  <Cell 'Sheet'.Z3>,\n",
       "  <Cell 'Sheet'.AA3>,\n",
       "  <Cell 'Sheet'.AB3>,\n",
       "  <Cell 'Sheet'.AC3>,\n",
       "  <Cell 'Sheet'.AD3>,\n",
       "  <Cell 'Sheet'.AE3>,\n",
       "  <Cell 'Sheet'.AF3>,\n",
       "  <Cell 'Sheet'.AG3>,\n",
       "  <Cell 'Sheet'.AH3>,\n",
       "  <Cell 'Sheet'.AI3>),\n",
       " (<Cell 'Sheet'.A4>,\n",
       "  <Cell 'Sheet'.B4>,\n",
       "  <Cell 'Sheet'.C4>,\n",
       "  <Cell 'Sheet'.D4>,\n",
       "  <Cell 'Sheet'.E4>,\n",
       "  <Cell 'Sheet'.F4>,\n",
       "  <Cell 'Sheet'.G4>,\n",
       "  <Cell 'Sheet'.H4>,\n",
       "  <Cell 'Sheet'.I4>,\n",
       "  <Cell 'Sheet'.J4>,\n",
       "  <Cell 'Sheet'.K4>,\n",
       "  <Cell 'Sheet'.L4>,\n",
       "  <Cell 'Sheet'.M4>,\n",
       "  <Cell 'Sheet'.N4>,\n",
       "  <Cell 'Sheet'.O4>,\n",
       "  <Cell 'Sheet'.P4>,\n",
       "  <Cell 'Sheet'.Q4>,\n",
       "  <Cell 'Sheet'.R4>,\n",
       "  <Cell 'Sheet'.S4>,\n",
       "  <Cell 'Sheet'.T4>,\n",
       "  <Cell 'Sheet'.U4>,\n",
       "  <Cell 'Sheet'.V4>,\n",
       "  <Cell 'Sheet'.W4>,\n",
       "  <Cell 'Sheet'.X4>,\n",
       "  <Cell 'Sheet'.Y4>,\n",
       "  <Cell 'Sheet'.Z4>,\n",
       "  <Cell 'Sheet'.AA4>,\n",
       "  <Cell 'Sheet'.AB4>,\n",
       "  <Cell 'Sheet'.AC4>,\n",
       "  <Cell 'Sheet'.AD4>,\n",
       "  <Cell 'Sheet'.AE4>,\n",
       "  <Cell 'Sheet'.AF4>,\n",
       "  <Cell 'Sheet'.AG4>,\n",
       "  <Cell 'Sheet'.AH4>,\n",
       "  <Cell 'Sheet'.AI4>))"
      ]
     },
     "execution_count": 24,
     "metadata": {},
     "output_type": "execute_result"
    }
   ],
   "source": [
    "tuple(ws.rows)"
   ]
  },
  {
   "cell_type": "code",
   "execution_count": 25,
   "metadata": {},
   "outputs": [
    {
     "data": {
      "text/plain": [
       "4"
      ]
     },
     "execution_count": 25,
     "metadata": {},
     "output_type": "execute_result"
    }
   ],
   "source": [
    "ws.max_row"
   ]
  },
  {
   "cell_type": "code",
   "execution_count": 15,
   "metadata": {},
   "outputs": [],
   "source": [
    "a = [i for i in range(10)]\n"
   ]
  },
  {
   "cell_type": "code",
   "execution_count": 16,
   "metadata": {},
   "outputs": [
    {
     "data": {
      "text/plain": [
       "[9, 8, 7, 6, 5, 4, 3, 2, 1, 0]"
      ]
     },
     "execution_count": 16,
     "metadata": {},
     "output_type": "execute_result"
    }
   ],
   "source": [
    "a[-1::-1]"
   ]
  },
  {
   "cell_type": "code",
   "execution_count": 19,
   "metadata": {},
   "outputs": [
    {
     "data": {
      "text/plain": [
       "[0, 1, 2, 3, 4, 5, 7, 8, 9, 0, 1, 2, 3, 4, 5, 7, 8, 9]"
      ]
     },
     "execution_count": 19,
     "metadata": {},
     "output_type": "execute_result"
    }
   ],
   "source": [
    "from functools import reduce\n",
    "\n",
    "my_list = [2, 3, 4, 5]\n",
    "result = reduce(lambda x, y: x * y, my_list)\n",
    "print(result)\n"
   ]
  },
  {
   "cell_type": "code",
   "execution_count": 20,
   "metadata": {},
   "outputs": [],
   "source": [
    "from array import array"
   ]
  },
  {
   "cell_type": "code",
   "execution_count": 21,
   "metadata": {},
   "outputs": [],
   "source": [
    "my_list = [1, 2, 3, 4, 5]\n",
    "my_array = array('i', my_list)"
   ]
  },
  {
   "cell_type": "code",
   "execution_count": 22,
   "metadata": {},
   "outputs": [
    {
     "data": {
      "text/plain": [
       "array('i', [1, 2, 3, 4, 5, 1, 2, 3, 4, 5])"
      ]
     },
     "execution_count": 22,
     "metadata": {},
     "output_type": "execute_result"
    }
   ],
   "source": []
  },
  {
   "cell_type": "code",
   "execution_count": null,
   "metadata": {},
   "outputs": [],
   "source": []
  }
 ],
 "metadata": {
  "kernelspec": {
   "display_name": ".venv",
   "language": "python",
   "name": "python3"
  },
  "language_info": {
   "codemirror_mode": {
    "name": "ipython",
    "version": 3
   },
   "file_extension": ".py",
   "mimetype": "text/x-python",
   "name": "python",
   "nbconvert_exporter": "python",
   "pygments_lexer": "ipython3",
   "version": "3.8.0"
  }
 },
 "nbformat": 4,
 "nbformat_minor": 2
}
